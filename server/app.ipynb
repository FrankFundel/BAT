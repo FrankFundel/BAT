{
 "cells": [
  {
   "cell_type": "code",
   "execution_count": 10,
   "id": "9aa6f900",
   "metadata": {},
   "outputs": [
    {
     "name": "stdout",
     "output_type": "stream",
     "text": [
      " * Serving Flask app '__main__' (lazy loading)\n",
      " * Environment: production\n",
      "\u001b[31m   WARNING: This is a development server. Do not use it in a production deployment.\u001b[0m\n",
      "\u001b[2m   Use a production WSGI server instead.\u001b[0m\n",
      " * Debug mode: off\n"
     ]
    },
    {
     "name": "stderr",
     "output_type": "stream",
     "text": [
      " * Running on all addresses (0.0.0.0)\n",
      "   WARNING: This is a development server. Do not use it in a production deployment.\n",
      " * Running on http://127.0.0.1:8888\n",
      " * Running on http://134.60.40.108:8888 (Press CTRL+C to quit)\n",
      "93.184.191.83 - - [21/Apr/2022 14:04:35] \"POST /predict HTTP/1.1\" 200 -\n"
     ]
    }
   ],
   "source": [
    "import sys\n",
    "import io\n",
    "import json\n",
    "from flask import Flask, jsonify, request\n",
    "from flask_cors import CORS, cross_origin\n",
    "sys.path.append('../datasets/')\n",
    "sys.path.append('../models/')\n",
    "\n",
    "from prepare_data import prepareData\n",
    "from prepare_sequences import slideWindow, classes18\n",
    "\n",
    "import soundfile as sf\n",
    "import torch\n",
    "import librosa\n",
    "\n",
    "app = Flask(__name__)\n",
    "cors = CORS(app)\n",
    "\n",
    "\n",
    "def prepare(audio_bytes, sample_rate, patch_len, patch_skip, resize):\n",
    "    # load bytes as signal\n",
    "    tmp = io.BytesIO(audio_bytes)\n",
    "    data, sr = sf.read(tmp, dtype='float32')\n",
    "    data = data.T\n",
    "    y = librosa.resample(data, sr, sample_rate)\n",
    "    \n",
    "    S_db = prepareData(y) # filter, spectrogram, denoise\n",
    "    seq = slideWindow(S_db, patch_len, patch_skip, resize)[:-1] # last one is not full\n",
    "    return seq\n",
    "\n",
    "\n",
    "def get_prediction(audio_bytes, selected_model):\n",
    "    # select model\n",
    "    if selected_model == \"BAT-1: 18 european bats\":\n",
    "        classes = classes18\n",
    "        sample_rate = 22050          # recordings are in 96 kHz, 24 bit depth, 1:10 TE (mic sr 960 kHz), 22050 Hz = 44100 Hz TE\n",
    "        patch_len = 44               # = 250ms ~ 25ms\n",
    "        patch_skip = 22              # = 150ms ~ 15ms\n",
    "        resize = (44, 44)\n",
    "        model = torch.jit.load('../models/bat_1.pt')\n",
    "        \n",
    "    device = torch.device(\"cuda:0\" if torch.cuda.is_available() else \"cpu\")\n",
    "    if torch.cuda.device_count() > 1:\n",
    "        print(\"Let's use\", torch.cuda.device_count(), \"GPUs!\")\n",
    "        model = nn.DataParallel(model, device_ids=[0, 1])\n",
    "    model.to(device)\n",
    "    model.eval()\n",
    "    \n",
    "    sequence = prepare(audio_bytes, sample_rate, patch_len, patch_skip, resize)[:60]\n",
    "    tensor = torch.Tensor([sequence]).to(device)\n",
    "    outputs = model(tensor)\n",
    "    return outputs[0].tolist(), classes\n",
    "\n",
    "\n",
    "@app.route('/predict', methods=['POST'])\n",
    "@cross_origin()\n",
    "def predict():\n",
    "    if request.method == 'POST':\n",
    "        selected_model = request.form['model']\n",
    "        file = request.files['file']\n",
    "        audio_bytes = file.read()\n",
    "        prediction, classes = get_prediction(audio_bytes, selected_model)\n",
    "        return jsonify({'prediction': prediction, 'classes': list(classes)})\n",
    "\n",
    "\n",
    "if __name__ == '__main__':\n",
    "    app.run(host='0.0.0.0', port=8888)"
   ]
  },
  {
   "cell_type": "code",
   "execution_count": null,
   "id": "cea8d3d9",
   "metadata": {},
   "outputs": [],
   "source": []
  }
 ],
 "metadata": {
  "kernelspec": {
   "display_name": "Python 3 (ipykernel)",
   "language": "python",
   "name": "python3"
  },
  "language_info": {
   "codemirror_mode": {
    "name": "ipython",
    "version": 3
   },
   "file_extension": ".py",
   "mimetype": "text/x-python",
   "name": "python",
   "nbconvert_exporter": "python",
   "pygments_lexer": "ipython3",
   "version": "3.8.6"
  }
 },
 "nbformat": 4,
 "nbformat_minor": 5
}
