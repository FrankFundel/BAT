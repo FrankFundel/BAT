{
 "cells": [
  {
   "cell_type": "markdown",
   "id": "52702d5d",
   "metadata": {},
   "source": [
    "# Dataset"
   ]
  },
  {
   "cell_type": "code",
   "execution_count": 1,
   "id": "eb3b7f5d",
   "metadata": {},
   "outputs": [],
   "source": [
    "model_type = 'convnet' # baseline, resnet, resnet_pretrained, convnet\n",
    "restart_scheduler = 5\n",
    "merge_test = False"
   ]
  },
  {
   "cell_type": "code",
   "execution_count": 2,
   "id": "529c8f5f",
   "metadata": {},
   "outputs": [
    {
     "name": "stderr",
     "output_type": "stream",
     "text": [
      "2022-11-04 12:18:35.189448: I tensorflow/core/platform/cpu_feature_guard.cc:193] This TensorFlow binary is optimized with oneAPI Deep Neural Network Library (oneDNN) to use the following CPU instructions in performance-critical operations:  AVX2 FMA\n",
      "To enable them in other operations, rebuild TensorFlow with the appropriate compiler flags.\n",
      "2022-11-04 12:18:35.635207: E tensorflow/stream_executor/cuda/cuda_blas.cc:2981] Unable to register cuBLAS factory: Attempting to register factory for plugin cuBLAS when one has already been registered\n",
      "2022-11-04 12:18:38.313899: W tensorflow/stream_executor/platform/default/dso_loader.cc:64] Could not load dynamic library 'libnvinfer.so.7'; dlerror: libnvinfer.so.7: cannot open shared object file: No such file or directory; LD_LIBRARY_PATH: /home/ffundel/.local/lib:\n",
      "2022-11-04 12:18:38.314187: W tensorflow/stream_executor/platform/default/dso_loader.cc:64] Could not load dynamic library 'libnvinfer_plugin.so.7'; dlerror: libnvinfer_plugin.so.7: cannot open shared object file: No such file or directory; LD_LIBRARY_PATH: /home/ffundel/.local/lib:\n",
      "2022-11-04 12:18:38.314215: W tensorflow/compiler/tf2tensorrt/utils/py_utils.cc:38] TF-TRT Warning: Cannot dlopen some TensorRT libraries. If you would like to use Nvidia GPU with TensorRT, please make sure the missing libraries mentioned above are installed properly.\n"
     ]
    }
   ],
   "source": [
    "import sys\n",
    "sys.path.append('../../datasets/')\n",
    "from prepare_individuals import prepare, germanBats\n",
    "import matplotlib.pyplot as plt\n",
    "\n",
    "classes = germanBats"
   ]
  },
  {
   "cell_type": "code",
   "execution_count": 3,
   "id": "ccad878d",
   "metadata": {},
   "outputs": [
    {
     "name": "stderr",
     "output_type": "stream",
     "text": [
      "100%|███████████████████████████████████████████| 18/18 [00:03<00:00,  5.14it/s]\n",
      "100%|███████████████████████████████████████████| 18/18 [00:01<00:00, 11.61it/s]\n",
      "100%|███████████████████████████████████████████| 18/18 [00:00<00:00, 18.85it/s]\n"
     ]
    }
   ],
   "source": [
    "num_bands = 257\n",
    "seq_len = 60\n",
    "patch_len = 61 * 2816      # = 250ms ~ 25ms (0.5 * 44 * (512 // 4))\n",
    "patch_skip = 15 * 2816          # 15 patches = 15 * 0.25 * 22050 * 0.5\n",
    "\n",
    "resize = None\n",
    "\n",
    "X_train, Y_train, X_test, Y_test, X_val, Y_val = prepare(\"../../datasets/prepared_signal.h5\", germanBats, patch_len, patch_skip, mode='slide', resize=None)"
   ]
  },
  {
   "cell_type": "code",
   "execution_count": 4,
   "id": "9ed42b9e",
   "metadata": {},
   "outputs": [
    {
     "name": "stdout",
     "output_type": "stream",
     "text": [
      "Total sequences: 19194\n",
      "(11323, 171776) (11323,)\n"
     ]
    }
   ],
   "source": [
    "print(\"Total sequences:\", len(X_train) + len(X_test) + len(X_val))\n",
    "print(X_train.shape, Y_train.shape)"
   ]
  },
  {
   "cell_type": "code",
   "execution_count": 5,
   "id": "67ea1e46",
   "metadata": {},
   "outputs": [
    {
     "name": "stdout",
     "output_type": "stream",
     "text": [
      "Total sequences: 4980\n",
      "(4980, 171776) (4980,)\n"
     ]
    }
   ],
   "source": [
    "print(\"Total sequences:\", len(X_test))\n",
    "print(X_test.shape, Y_test.shape)"
   ]
  },
  {
   "cell_type": "code",
   "execution_count": 6,
   "id": "4a8302e4",
   "metadata": {},
   "outputs": [
    {
     "name": "stdout",
     "output_type": "stream",
     "text": [
      "Total sequences: 2891\n",
      "(2891, 171776) (2891,)\n"
     ]
    }
   ],
   "source": [
    "print(\"Total sequences:\", len(X_val))\n",
    "print(X_val.shape, Y_val.shape)"
   ]
  },
  {
   "cell_type": "markdown",
   "id": "db22fb50",
   "metadata": {},
   "source": [
    "# Model\n",
    "Sequence -> Feature map -> pos. encoding -> Transformer (CLS)"
   ]
  },
  {
   "cell_type": "code",
   "execution_count": 7,
   "id": "86b39b27",
   "metadata": {},
   "outputs": [],
   "source": [
    "import time\n",
    "import datetime\n",
    "import numpy as np\n",
    "import tqdm\n",
    "import torch\n",
    "import torch.nn as nn\n",
    "import math\n",
    "from torch.cuda.amp import autocast\n",
    "from torch.utils.data import TensorDataset, DataLoader\n",
    "from torchvision.models.feature_extraction import create_feature_extractor\n",
    "\n",
    "sys.path.append('../addons/')\n",
    "from sam import SAM\n",
    "import einops\n",
    "from einops import rearrange, repeat\n",
    "from einops.layers.torch import Rearrange\n",
    "from torchsummary import summary\n",
    "from torchmetrics.functional import f1_score"
   ]
  },
  {
   "cell_type": "code",
   "execution_count": 8,
   "id": "1d3010a1",
   "metadata": {},
   "outputs": [],
   "source": [
    "use_sampler = False\n",
    "use_reduceonplateu = False\n",
    "use_cosinescheduler = True\n",
    "use_sam = True"
   ]
  },
  {
   "cell_type": "code",
   "execution_count": 9,
   "id": "6cacfcc7",
   "metadata": {},
   "outputs": [],
   "source": [
    "#pip install git+https://github.com/huggingface/transformers\n",
    "#!pip uninstall transformers -y\n",
    "#!pip install git+https://github.com/NielsRogge/transformers@add_ast"
   ]
  },
  {
   "cell_type": "code",
   "execution_count": 10,
   "id": "2062925d",
   "metadata": {},
   "outputs": [],
   "source": [
    "from transformers import AudioSpectrogramTransformerModel, AudioSpectrogramTransformerConfig"
   ]
  },
  {
   "cell_type": "code",
   "execution_count": 24,
   "id": "aee4d827",
   "metadata": {},
   "outputs": [],
   "source": [
    "config = AudioSpectrogramTransformerConfig(frequency_dimension=257, time_dimension=1343)\n",
    "ast = AudioSpectrogramTransformerModel(config)"
   ]
  },
  {
   "cell_type": "code",
   "execution_count": 26,
   "id": "4a0a38eb",
   "metadata": {},
   "outputs": [
    {
     "name": "stdout",
     "output_type": "stream",
     "text": [
      "87810048 params\n"
     ]
    }
   ],
   "source": [
    "pytorch_total_params = sum(p.numel() for p in ast.parameters() if p.requires_grad)\n",
    "print(pytorch_total_params, \"params\")"
   ]
  },
  {
   "cell_type": "code",
   "execution_count": null,
   "id": "5cfb9cb0",
   "metadata": {},
   "outputs": [],
   "source": [
    "class Net(nn.Module):\n",
    "    \"\"\"\n",
    "    Classifier based on a pytorch TransformerEncoder.\n",
    "    \"\"\"\n",
    "\n",
    "    def __init__(\n",
    "        self,\n",
    "        max_len,\n",
    "        patch_dim,\n",
    "        d_model,\n",
    "        num_classes,\n",
    "        nhead=8,\n",
    "        dim_feedforward=2048,\n",
    "        num_layers=6,\n",
    "        dropout=0.1,\n",
    "        classifier_dropout=0.1,\n",
    "    ):\n",
    "\n",
    "        super().__init__()\n",
    "\n",
    "        assert d_model % nhead == 0, \"nheads must divide evenly into d_model\"\n",
    "        \n",
    "        config = AudioSpectrogramTransformerConfig(frequency_dimension=257, time_dimension=1343)\n",
    "        self.ast = AudioSpectrogramTransformerModel(config)\n",
    "\n",
    "    def forward(self, x):\n",
    "        x = torch.abs(torch.stft(x, n_fft=512, window=torch.hann_window(window_length=512).cuda(), return_complex=True))\n",
    "        x = 20 * torch.log10(x / torch.max(x))\n",
    "        flt = torch.ones(list(x.shape)).cuda()\n",
    "        flt[:, :int(257 * (15000 / 120000)), :] = 0\n",
    "        x = x * flt\n",
    "        x = torch.abs(x - x.mean(dim=2, keepdim=True).repeat((1, 1, x.shape[2])))\n",
    "        x = x.transpose(dim0=2, dim1=1)\n",
    "        x[torch.isinf(x)] = 0\n",
    "        x[torch.isnan(x)] = 0\n",
    "        \n",
    "        x = self.ast(x)\n",
    "        return x"
   ]
  },
  {
   "cell_type": "code",
   "execution_count": null,
   "id": "56606865",
   "metadata": {},
   "outputs": [],
   "source": [
    "import random\n",
    "\n",
    "def one_hot(x, num_classes, on_value=1., off_value=0., device='cuda'):\n",
    "    x = x.long().view(-1, 1)\n",
    "    return torch.full((x.size()[0], num_classes), off_value, device=device).scatter_(1, x, on_value)\n",
    "\n",
    "def rand_y(Y, exclude_class):\n",
    "    while True:\n",
    "        idx = random.randint(0, len(Y)-1)\n",
    "        if torch.logical_and(Y[idx], exclude_class).sum() == 0:\n",
    "            return idx\n",
    "\n",
    "# X and Y need to be shuffled\n",
    "def mixup(X, Y, num_classes, min_seq=2, max_seq=2):\n",
    "    Y1 = one_hot(Y, num_classes, device=X.device)\n",
    "    X2 = X.clone()\n",
    "    Y2 = Y1.clone()\n",
    "    for i, y in enumerate(Y):\n",
    "        rand_k = random.randint(min_seq, max_seq)\n",
    "        for k in range(rand_k-1):\n",
    "            idx = rand_y(Y1, Y2[i])\n",
    "            X2[i] += X[idx] #.squeeze()\n",
    "            Y2[i] += Y1[idx] #.squeeze()\n",
    "        X2[i] /= rand_k\n",
    "    return X2, Y2\n",
    "\n",
    "def getCorrects(output, target):\n",
    "    n_targets = target.sum(dim=1).int().cpu().detach().numpy()\n",
    "    best_2 = torch.zeros_like(output)\n",
    "    for i, e in enumerate(torch.argsort(output, 1)):\n",
    "        best_2[i, e[-n_targets[i]:]] = 1\n",
    "    log_and = torch.logical_and(best_2, target)\n",
    "    corr = 0.0\n",
    "    for i, t in enumerate(target):\n",
    "        corr += log_and[i].sum() / max(t.sum(), output[i].sum())\n",
    "    return corr"
   ]
  },
  {
   "cell_type": "code",
   "execution_count": null,
   "id": "35e2168b",
   "metadata": {},
   "outputs": [],
   "source": [
    "def train_epoch(model, epoch, criterion, optimizer, scheduler, dataloader, device):\n",
    "    model.train()\n",
    "    \n",
    "    running_loss = 0.0\n",
    "    running_corrects = 0\n",
    "    \n",
    "    num_batches = len(dataloader)\n",
    "    num_samples = len(dataloader.dataset)\n",
    "    \n",
    "    for batch, (inputs, labels) in enumerate(tqdm.tqdm(dataloader)):\n",
    "        # Transfer Data to GPU if available\n",
    "        inputs, labels = inputs.to(device), labels.to(device)\n",
    "        inputs, labels = mixup(inputs, labels, num_classes=num_classes, min_seq=1, max_seq=3)\n",
    "         \n",
    "        # Clear the gradients\n",
    "        optimizer.zero_grad()\n",
    "        \n",
    "        # Forward Pass\n",
    "        outputs = model(inputs)\n",
    "\n",
    "        # Compute Loss\n",
    "        loss = criterion(outputs, labels)\n",
    "        \n",
    "        # Calculate gradients\n",
    "        loss.backward()\n",
    "        \n",
    "        # Update Weights\n",
    "        if use_sam:\n",
    "            optimizer.first_step()\n",
    "            criterion(model(inputs), labels).backward()\n",
    "            optimizer.second_step()\n",
    "        else:\n",
    "            optimizer.step()\n",
    "        \n",
    "        # Calculate Loss\n",
    "        running_loss += loss.item() * inputs.size(0)\n",
    "        running_corrects += getCorrects(outputs, labels)\n",
    "    \n",
    "        # Perform learning rate step\n",
    "        if use_cosinescheduler:\n",
    "            scheduler.step(epoch + batch / num_batches)\n",
    "            \n",
    "    epoch_loss = running_loss / num_samples\n",
    "    epoch_acc = running_corrects / num_samples\n",
    "    \n",
    "    return epoch_loss, epoch_acc"
   ]
  },
  {
   "cell_type": "code",
   "execution_count": null,
   "id": "fc182cfa",
   "metadata": {},
   "outputs": [],
   "source": [
    "def test_epoch(model, epoch, criterion, optimizer, dataloader, device):\n",
    "    model.eval()\n",
    "    \n",
    "    num_batches = len(dataloader)\n",
    "    num_samples = len(dataloader.dataset)\n",
    "    \n",
    "    with torch.no_grad():\n",
    "        running_loss = 0.0\n",
    "        running_corrects = 0\n",
    "\n",
    "        for batch, (inputs, labels) in enumerate(tqdm.tqdm(dataloader)):\n",
    "            # Transfer Data to GPU if available\n",
    "            inputs, labels = inputs.to(device), labels.to(device)\n",
    "            inputs, labels = mixup(inputs, labels, num_classes=num_classes, min_seq=1, max_seq=3)\n",
    "\n",
    "            # Clear the gradients\n",
    "            optimizer.zero_grad()\n",
    "\n",
    "            # Forward Pass\n",
    "            outputs = model(inputs)\n",
    "\n",
    "            # Compute Loss\n",
    "            loss = criterion(outputs, labels)\n",
    "\n",
    "            # Calculate Loss\n",
    "            running_loss += loss.item() * inputs.size(0)\n",
    "            running_corrects += getCorrects(outputs, labels)\n",
    "\n",
    "        epoch_loss = running_loss / num_samples\n",
    "        epoch_acc = running_corrects / num_samples\n",
    "    \n",
    "    return epoch_loss, epoch_acc"
   ]
  },
  {
   "cell_type": "code",
   "execution_count": null,
   "id": "27382931",
   "metadata": {},
   "outputs": [],
   "source": [
    "from torchsampler import ImbalancedDatasetSampler\n",
    "\n",
    "max_len = seq_len\n",
    "batch_size = 64\n",
    "epochs = 23\n",
    "lr = .0005\n",
    "warmup_epochs = 5\n",
    "if model_type == \"convnet\":\n",
    "    d_model = 64\n",
    "else:\n",
    "    d_model = 512\n",
    "    \n",
    "\n",
    "nhead = 2\n",
    "dim_feedforward = 32\n",
    "num_layers = 2\n",
    "dropout = 0.3\n",
    "classifier_dropout = 0.3\n",
    "num_classes = len(list(classes))\n",
    "\n",
    "if merge_test:\n",
    "    X_train = np.concatenate((X_train, X_test), axis=0)\n",
    "    Y_train = np.concatenate((Y_train, Y_test), axis=0)\n",
    "    X_test = X_val\n",
    "    Y_test = Y_val\n",
    "    \n",
    "train_len = batch_size * int(len(X_train) / batch_size)\n",
    "test_len = batch_size * int(len(X_test) / batch_size)\n",
    "val_len = batch_size * int(len(X_val) / batch_size)\n",
    "train_data = TensorDataset(torch.Tensor(X_train[:train_len]), torch.from_numpy(Y_train[:train_len]))\n",
    "test_data = TensorDataset(torch.Tensor(X_test[:test_len]), torch.from_numpy(Y_test[:test_len]))\n",
    "val_data = TensorDataset(torch.Tensor(X_val[:val_len]), torch.from_numpy(Y_val[:val_len]))\n",
    "\n",
    "if use_sampler:\n",
    "    train_loader = DataLoader(train_data, sampler=ImbalancedDatasetSampler(train_data), batch_size=batch_size)\n",
    "    test_loader = DataLoader(test_data, sampler=ImbalancedDatasetSampler(test_data), batch_size=batch_size)\n",
    "    val_loader = DataLoader(val_data, sampler=ImbalancedDatasetSampler(val_data), batch_size=batch_size)\n",
    "else:\n",
    "    train_loader = DataLoader(train_data, batch_size=batch_size)\n",
    "    test_loader = DataLoader(test_data, batch_size=batch_size)\n",
    "    val_loader = DataLoader(val_data, batch_size=batch_size)"
   ]
  },
  {
   "cell_type": "code",
   "execution_count": null,
   "id": "c90d2c4d",
   "metadata": {},
   "outputs": [],
   "source": [
    "def signalToPatches(x):\n",
    "    x = torch.abs(torch.stft(x, n_fft=512, window=torch.hann_window(window_length=512), return_complex=True))\n",
    "    x = 20 * torch.log10(x / torch.max(x)) # 10 * torch.log10(x**2 / torch.max(x**2))\n",
    "    flt = torch.ones(list(x.shape))\n",
    "    flt[:, :int(257 * (15000 / 120000)), :] = 0\n",
    "    x = x * flt\n",
    "    x = torch.abs(x - x.mean(dim=2, keepdim=True).repeat((1, 1, x.shape[2])))\n",
    "    x = x.transpose(dim0=2, dim1=1)\n",
    "    x = x.unfold(dimension=1, size=44, step=22).permute((0, 1, 3, 2)) # Col2Im\n",
    "    x[torch.isinf(x)] = 0\n",
    "    x[torch.isnan(x)] = 0\n",
    "    print(x.shape)\n",
    "    return x\n",
    "\n",
    "def stitch(a, r):\n",
    "    return a[::r]\n",
    "  \n",
    "def plot_sequence(seq, y):\n",
    "    plt.figure(figsize = (20, 2.5))\n",
    "    stitched = stitch(seq, int(patch_len / patch_skip))\n",
    "    spec = np.rot90(np.concatenate(stitched))\n",
    "    plt.imshow(spec, interpolation='nearest', aspect='auto', cmap='inferno')\n",
    "    plt.colorbar()\n",
    "    label_list = []\n",
    "    if(len(y.shape) > 0):\n",
    "        for i in np.argwhere(y == 1)[:,0]:\n",
    "            label_list.append(list(classes)[i])\n",
    "        plt.title(\", \".join(label_list))\n",
    "    else:\n",
    "        plt.title(list(classes)[y])\n",
    "\n",
    "k = random.randint(0, batch_size)\n",
    "X1, Y1 = next(iter(train_loader))\n",
    "X1, Y1 = mixup(X1, Y1, num_classes=num_classes, min_seq=1, max_seq=3)\n",
    "X1_p = signalToPatches(X1)\n",
    "plot_sequence(X1_p[k].detach().numpy(), Y1[k].detach().numpy())"
   ]
  },
  {
   "cell_type": "code",
   "execution_count": null,
   "id": "4733334c",
   "metadata": {},
   "outputs": [],
   "source": [
    "model = Net(\n",
    "    max_len=max_len,\n",
    "    patch_dim=resize[0]*resize[1] if resize is not None else patch_len * num_bands, # patch_len * num_bands, # 44 * 257 = 11,308\n",
    "    d_model=d_model,\n",
    "    num_classes=len(list(classes)),\n",
    "    nhead=nhead,\n",
    "    dim_feedforward=dim_feedforward,\n",
    "    num_layers=num_layers,\n",
    "    dropout=dropout,\n",
    "    classifier_dropout=classifier_dropout,\n",
    ")\n",
    "\n",
    "device = torch.device(\"cuda:0\" if torch.cuda.is_available() else \"cpu\")\n",
    "#if torch.cuda.device_count() > 1:\n",
    "#    print(\"Let's use\", torch.cuda.device_count(), \"GPUs!\")\n",
    "#    model = nn.DataParallel(model, device_ids=[0, 1])\n",
    "    \n",
    "model.to(device)\n",
    "print(device)"
   ]
  },
  {
   "cell_type": "code",
   "execution_count": null,
   "id": "8ad101ec",
   "metadata": {},
   "outputs": [],
   "source": [
    "import wandb\n",
    "from losses import AsymmetricLoss\n",
    "\n",
    "wandb_config = {\n",
    "    \"epochs\": epochs,\n",
    "    \"lr\": lr,\n",
    "    \"batch_size\": batch_size,\n",
    "    \"warmup_epochs\": warmup_epochs,\n",
    "    \"d_model\": d_model,\n",
    "    \"nhead\": nhead,\n",
    "    \"dim_feedforward\": dim_feedforward,\n",
    "    \"num_layers\": num_layers,\n",
    "    \"dropout\": dropout,\n",
    "    \"classifier_dropout\": classifier_dropout,\n",
    "    \n",
    "    \"use_sampler\": use_sampler,\n",
    "    \"use_reduceonplateu\": use_reduceonplateu,\n",
    "    \"use_cosinescheduler\": use_cosinescheduler,\n",
    "    \"use_sam\": use_sam,\n",
    "    \"mege_test\": merge_test<\n",
    "}\n",
    "\n",
    "#wandb.init(project=\"BAT-2-mixed\", entity=\"frankfundel\", config=wandb_config)\n",
    "\n",
    "#criterion = nn.BCEWithLogitsLoss(pos_weight=torch.tensor(2/16), weight=torch.tensor(100)) # contains sigmoid\n",
    "#criterion = AsymmetricLoss(gamma_neg=0, gamma_pos=0, clip=0, disable_torch_grad_focal_loss=True)\n",
    "#criterion = AsymmetricLoss(gamma_neg=2, gamma_pos=2, clip=0, disable_torch_grad_focal_loss=True)\n",
    "criterion = AsymmetricLoss(gamma_neg=2, gamma_pos=1, clip=0, disable_torch_grad_focal_loss=True)\n",
    "\n",
    "\n",
    "if use_sam:\n",
    "    base_optimizer = torch.optim.SGD\n",
    "    optimizer = SAM(model.parameters(), base_optimizer, lr=lr, momentum=0.9)\n",
    "else:\n",
    "    optimizer = torch.optim.Adam(model.parameters(), lr=lr)\n",
    "    \n",
    "scheduler = None\n",
    "if use_cosinescheduler:\n",
    "    scheduler = torch.optim.lr_scheduler.CosineAnnealingWarmRestarts(optimizer=optimizer, T_0=warmup_epochs)\n",
    "if use_reduceonplateu:\n",
    "    scheduler = torch.optim.lr_scheduler.ReduceLROnPlateau(optimizer)\n",
    "    \n",
    "min_val_loss = np.inf\n",
    "\n",
    "torch.autograd.set_detect_anomaly(True)"
   ]
  },
  {
   "cell_type": "code",
   "execution_count": null,
   "id": "2a5c8b09",
   "metadata": {
    "scrolled": true
   },
   "outputs": [],
   "source": [
    "num_classes = len(list(classes))\n",
    "s_epoch = 0\n",
    "for epoch in range(epochs):\n",
    "    end = time.time()\n",
    "    print(f\"==================== Starting at epoch {epoch} ====================\", flush=True)\n",
    "    \n",
    "    train_loss, train_acc = train_epoch(model, s_epoch, criterion, optimizer, scheduler, train_loader, device)\n",
    "    print('Training loss: {:.4f} Acc: {:.4f}'.format(train_loss, train_acc), flush=True)\n",
    "    \n",
    "    val_loss, val_acc = test_epoch(model, s_epoch, criterion, optimizer, val_loader, device)\n",
    "    print('Validation loss: {:.4f} Acc: {:.4f}'.format(val_loss, val_acc), flush=True)\n",
    "    \n",
    "    if use_reduceonplateu:\n",
    "        scheduler.step(val_loss)\n",
    "    \n",
    "    wandb.log({\n",
    "        \"train_loss\": train_loss,\n",
    "        \"train_acc\": train_acc,\n",
    "        \"val_loss\": val_loss,\n",
    "        \"val_acc\": val_acc,\n",
    "    })\n",
    "    \n",
    "    if min_val_loss > val_loss:\n",
    "        print('val_loss decreased, saving model', flush=True)\n",
    "        min_val_loss = val_loss\n",
    "        \n",
    "        # Saving State Dict\n",
    "        torch.save(model.state_dict(), 'bat_2_' + model_type + '_mixed.pth')\n",
    "    \n",
    "    if s_epoch == restart_scheduler:\n",
    "        s_epoch = 0\n",
    "    else:\n",
    "        s_epoch += 1"
   ]
  },
  {
   "cell_type": "code",
   "execution_count": null,
   "id": "44ca477b",
   "metadata": {},
   "outputs": [],
   "source": [
    "model.load_state_dict(torch.load('bat_2_' + model_type + '_mixed.pth'))\n",
    "#compiled_model = torch.jit.script(model)\n",
    "#torch.jit.save(compiled_model, 'bat_1.pt')"
   ]
  },
  {
   "cell_type": "code",
   "execution_count": null,
   "id": "0faba2b2",
   "metadata": {},
   "outputs": [],
   "source": [
    "mixed_corrects = 0.0\n",
    "repeats = 5\n",
    "\n",
    "predictions = []\n",
    "targets = []\n",
    "\n",
    "for r in range(repeats):\n",
    "    # iterate over test data\n",
    "    for inputs, labels in tqdm.tqdm(test_loader):\n",
    "        inputs, labels = inputs.to(device), labels.to(device)\n",
    "        inputs, labels = mixup(inputs, labels, num_classes=num_classes, min_seq=1, max_seq=3)\n",
    "\n",
    "        output = model(inputs) # Feed Network\n",
    "        predictions.extend(output.data.cpu().numpy())\n",
    "        targets.extend(labels.data.cpu().numpy())\n",
    "        mixed_corrects += getCorrects(output, labels)"
   ]
  },
  {
   "cell_type": "code",
   "execution_count": null,
   "id": "974b27be",
   "metadata": {},
   "outputs": [],
   "source": [
    "from sklearn.metrics import f1_score\n",
    "\n",
    "def sigmoid(x):\n",
    "    return 1 / (1 + np.exp(-x))\n",
    "\n",
    "test_acc = mixed_corrects / (repeats * len(test_data))\n",
    "f1_micro = f1_score(sigmoid(np.asarray(predictions)) > 0.5, np.asarray(targets), average='micro')\n",
    "f1_macro = f1_score(sigmoid(np.asarray(predictions)) > 0.5, np.asarray(targets), average='macro')\n",
    "\n",
    "print(\"Mixed test acc:\", test_acc)\n",
    "print(\"Mixed f1 micro:\", f1_micro)\n",
    "print(\"Mixed f1 macro:\", f1_macro)\n",
    "\n",
    "pytorch_total_params = sum(p.numel() for p in model.parameters() if p.requires_grad)\n",
    "print(pytorch_total_params, \"params\")"
   ]
  },
  {
   "cell_type": "code",
   "execution_count": null,
   "id": "59bc72ef",
   "metadata": {},
   "outputs": [],
   "source": [
    "wandb.log({\n",
    "    \"test_acc\": test_acc,\n",
    "    \"f1_micro\": f1_micro,\n",
    "    \"f1_macro\": f1_macro,\n",
    "    \"num_params\": pytorch_total_params,\n",
    "})"
   ]
  },
  {
   "cell_type": "code",
   "execution_count": null,
   "id": "8317e31e",
   "metadata": {},
   "outputs": [],
   "source": [
    "wandb.finish()"
   ]
  },
  {
   "cell_type": "code",
   "execution_count": null,
   "id": "b11df645",
   "metadata": {},
   "outputs": [],
   "source": [
    "from sklearn.metrics import confusion_matrix\n",
    "import seaborn as sn\n",
    "import pandas as pd\n",
    "\n",
    "Y_pred = []\n",
    "Y_true = []\n",
    "corrects = 0\n",
    "\n",
    "model.eval()\n",
    "\n",
    "# iterate over test data\n",
    "for inputs, labels in tqdm.tqdm(test_loader):\n",
    "    output = model(inputs.cuda()) # Feed Network\n",
    "\n",
    "    output = torch.argmax(output, 1).data.cpu().numpy()\n",
    "    Y_pred.extend(output) # Save Prediction\n",
    "\n",
    "    #labels = torch.argmax(labels, 1).data.cpu().numpy()\n",
    "    labels = labels.data.cpu().numpy()\n",
    "    Y_true.extend(labels) # Save Truth"
   ]
  },
  {
   "cell_type": "code",
   "execution_count": null,
   "id": "81d85fec",
   "metadata": {},
   "outputs": [],
   "source": [
    "# Build confusion matrix\n",
    "cf_matrix = confusion_matrix(Y_true, Y_pred)\n",
    "df_cm = pd.DataFrame(cf_matrix / np.sum(cf_matrix, axis=-1), index = [i for i in classes],\n",
    "                     columns = [i for i in classes])\n",
    "plt.figure(figsize = (12,7))\n",
    "sn.heatmap(df_cm, annot=True)\n",
    "plt.savefig('bat_2_' + model_type + '_mixed_cf.png')"
   ]
  },
  {
   "cell_type": "code",
   "execution_count": null,
   "id": "b8ae50b8",
   "metadata": {},
   "outputs": [],
   "source": [
    "import sklearn\n",
    "corrects = np.equal(Y_pred, Y_true).sum()\n",
    "test_acc = corrects/len(Y_pred)\n",
    "f1 = sklearn.metrics.f1_score(Y_true, Y_pred, average=None).mean()\n",
    "print(\"Test accuracy:\", test_acc)\n",
    "print(\"F1-score:\", f1)"
   ]
  },
  {
   "cell_type": "code",
   "execution_count": null,
   "id": "086c409b",
   "metadata": {},
   "outputs": [],
   "source": []
  }
 ],
 "metadata": {
  "kernelspec": {
   "display_name": "Python 3 (ipykernel)",
   "language": "python",
   "name": "python3"
  },
  "language_info": {
   "codemirror_mode": {
    "name": "ipython",
    "version": 3
   },
   "file_extension": ".py",
   "mimetype": "text/x-python",
   "name": "python",
   "nbconvert_exporter": "python",
   "pygments_lexer": "ipython3",
   "version": "3.8.6"
  }
 },
 "nbformat": 4,
 "nbformat_minor": 5
}
