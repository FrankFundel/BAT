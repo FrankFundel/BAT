{
 "cells": [
  {
   "cell_type": "markdown",
   "id": "770c486e",
   "metadata": {},
   "source": [
    "# Dataset "
   ]
  },
  {
   "cell_type": "code",
   "execution_count": 1,
   "id": "0d2d18e2",
   "metadata": {},
   "outputs": [],
   "source": [
    "use_trained = False"
   ]
  },
  {
   "cell_type": "code",
   "execution_count": null,
   "id": "817d5488",
   "metadata": {},
   "outputs": [],
   "source": [
    "import sys\n",
    "sys.path.append('../../datasets/')\n",
    "from prepare_sequences import prepare, germanBats\n",
    "import matplotlib.pyplot as plt\n",
    "import pickle\n",
    "import numpy as np\n",
    "\n",
    "classes = germanBats"
   ]
  },
  {
   "cell_type": "code",
   "execution_count": null,
   "id": "2c935447",
   "metadata": {},
   "outputs": [],
   "source": [
    "num_bands = 257\n",
    "patch_len = 44                               # = 250ms ~ 25ms\n",
    "patch_skip = patch_len / 2                   # = 150ms ~ 15ms\n",
    "\n",
    "resize = None\n",
    "\n",
    "mode = 'slide'\n",
    "options = {\n",
    "    'seq_len': 60,                            # = 500ms with ~ 5 calls\n",
    "    'seq_skip': 15,\n",
    "}\n",
    "\n",
    "X_test, Y_test = prepare(\"../../datasets/prepared.h5\", classes, patch_len, patch_skip,\n",
    "                                                         options, mode, resize, only_test=True)"
   ]
  },
  {
   "cell_type": "code",
   "execution_count": null,
   "id": "3bfd423c",
   "metadata": {},
   "outputs": [],
   "source": [
    "print(\"Total sequences:\", len(X_test))\n",
    "print(X_test.shape, Y_test.shape)"
   ]
  },
  {
   "cell_type": "markdown",
   "id": "9c43a6df",
   "metadata": {},
   "source": [
    "# Model"
   ]
  },
  {
   "cell_type": "code",
   "execution_count": null,
   "id": "9ec9d3a0",
   "metadata": {},
   "outputs": [],
   "source": [
    "from torch.utils.data import TensorDataset, DataLoader\n",
    "import torch\n",
    "import torch.nn as nn\n",
    "\n",
    "batch_size = 64\n",
    "num_classes = len(list(classes))\n",
    "\n",
    "test_data = TensorDataset(torch.Tensor(X_test), torch.from_numpy(Y_test))\n",
    "test_loader = DataLoader(test_data, batch_size=batch_size)"
   ]
  },
  {
   "cell_type": "code",
   "execution_count": null,
   "id": "bfcc650d",
   "metadata": {},
   "outputs": [],
   "source": [
    "model = nn.Sequential(\n",
    "    nn.Conv2d(1, 16, kernel_size=(5, 7), stride=(2, 3), padding=3),\n",
    "    nn.BatchNorm2d(16),\n",
    "    nn.ReLU(),\n",
    "    nn.MaxPool2d(kernel_size=3, stride=2, padding=1),\n",
    "\n",
    "    nn.Conv2d(16, 32, kernel_size=(3, 5), stride=(2, 3), padding=1),\n",
    "    nn.BatchNorm2d(32),\n",
    "    nn.ReLU(),\n",
    "    nn.MaxPool2d(kernel_size=5, stride=2, padding=1),\n",
    "\n",
    "    nn.Conv2d(32, 64, kernel_size=(3, 5), stride=(1, 2), padding=1),\n",
    "    nn.BatchNorm2d(64),\n",
    "    nn.ReLU(),\n",
    "    nn.MaxPool2d(kernel_size=3, stride=2, padding=1),\n",
    "    \n",
    "    nn.Flatten(1, -1),\n",
    "    nn.Linear(64, len(list(classes)))\n",
    ")\n",
    "if use_trained:\n",
    "    model.load_state_dict(torch.load('baseline_mixed.pth'))\n",
    "else:\n",
    "    model.load_state_dict(torch.load('baseline_small.pth'))\n",
    "device =  torch.device(\"cuda:0\" if torch.cuda.is_available() else \"cpu\")\n",
    "if torch.cuda.device_count() > 1:\n",
    "    print(\"Let's use\", torch.cuda.device_count(), \"GPUs!\")\n",
    "    model = nn.DataParallel(model, device_ids=[0, 1])\n",
    "model.to(device)\n",
    "print(device)"
   ]
  },
  {
   "cell_type": "code",
   "execution_count": null,
   "id": "33d31ee0",
   "metadata": {},
   "outputs": [],
   "source": [
    "call_nocall_model = torch.jit.load('../call_nocall/call_nocall.pt')\n",
    "call_nocall_model.to(device)\n",
    "print(device)"
   ]
  },
  {
   "cell_type": "code",
   "execution_count": null,
   "id": "ab9bcf46",
   "metadata": {},
   "outputs": [],
   "source": [
    "import tqdm\n",
    "\n",
    "corrects = 0.0\n",
    "\n",
    "model.eval()\n",
    "\n",
    "classes[\"unknown\"] = 18\n",
    "\n",
    "# iterate over test data\n",
    "for inputs, labels in tqdm.tqdm(test_loader):\n",
    "    inputs, labels = inputs.to(device).unsqueeze(2), labels.to(device)\n",
    "    \n",
    "    for s in range(len(inputs)):\n",
    "        cnc_outputs = call_nocall_model(inputs[s])\n",
    "        cnc_pred = torch.argmax(cnc_outputs, 1) # call indices\n",
    "\n",
    "        n_inputs = inputs[s, cnc_pred.nonzero().squeeze()]\n",
    "        if n_inputs.shape[0] > 1:\n",
    "            output = model(n_inputs)\n",
    "            pred = torch.max(output, 1)[1]\n",
    "            pred = torch.mode(pred)[0].item()\n",
    "            corrects += (pred == labels[s]).sum()\n",
    "        else:\n",
    "            pass"
   ]
  },
  {
   "cell_type": "code",
   "execution_count": null,
   "id": "5eec89bc",
   "metadata": {},
   "outputs": [],
   "source": [
    "print(\"Accuracy:\", corrects / len(test_data))"
   ]
  },
  {
   "cell_type": "code",
   "execution_count": null,
   "id": "83d21c7d",
   "metadata": {},
   "outputs": [],
   "source": [
    "import random\n",
    "\n",
    "def one_hot(x, num_classes, on_value=1., off_value=0., device='cuda'):\n",
    "    x = x.long().view(-1, 1)\n",
    "    return torch.full((x.size()[0], num_classes), off_value, device=device).scatter_(1, x, on_value)\n",
    "\n",
    "def rand_y(Y, exclude_class):\n",
    "    while True:\n",
    "        idx = random.randint(0, len(Y)-1)\n",
    "        if torch.logical_and(Y[idx], exclude_class).sum() == 0:\n",
    "            return idx\n",
    "\n",
    "def mixup(X, Y, num_classes, min_seq=2, max_seq=2):\n",
    "    Y1 = one_hot(Y, num_classes, device=X.device)\n",
    "    X2 = X.clone()\n",
    "    Y2 = Y1.clone()\n",
    "    for i, y in enumerate(Y):\n",
    "        rand_k = random.randint(min_seq, max_seq)\n",
    "        for k in range(3-rand_k):\n",
    "            idx = rand_y(Y1, Y2[i])\n",
    "            X2[i] += X[idx].squeeze()\n",
    "            Y2[i] += Y1[idx].squeeze()\n",
    "    return X2, Y2\n",
    "\n",
    "'''def getCorrects(output, target):\n",
    "    n_targets = target.sum(dim=1).int().cpu().detach().numpy()\n",
    "    best_2 = torch.zeros_like(output)\n",
    "    for i, e in enumerate(torch.argsort(output, 1)):\n",
    "        best_2[i, e[-n_targets[i]:]] = 1\n",
    "    log_and = torch.logical_and(best_2, target)\n",
    "    corr = 0.0\n",
    "    for i, t in enumerate(target):\n",
    "        corr += log_and[i].sum() / max(t.sum(), output[i].sum())\n",
    "    return corr'''\n",
    "\n",
    "def getCorrects(output, target):\n",
    "    log_and = np.logical_and(output, target)\n",
    "    corr = 0.0\n",
    "    for i, t in enumerate(target):\n",
    "        corr += log_and[i].sum() / max(t.sum(), output[i].sum())\n",
    "    return corr"
   ]
  },
  {
   "cell_type": "code",
   "execution_count": null,
   "id": "24d8d752",
   "metadata": {},
   "outputs": [],
   "source": [
    "def stitch(a, r):\n",
    "    return a[::r]\n",
    "  \n",
    "def plot_sequence(seq, y):\n",
    "    plt.figure(figsize = (20, 2.5))\n",
    "    stitched = stitch(seq, int(patch_len / patch_skip))\n",
    "    spec = np.rot90(np.concatenate(stitched))\n",
    "    plt.imshow(spec, interpolation='nearest', aspect='auto', cmap='inferno')\n",
    "    plt.colorbar()\n",
    "    label_list = []\n",
    "    if(len(y.shape) > 0):\n",
    "        for i in np.argwhere(y == 1)[:,0]:\n",
    "            label_list.append(list(classes)[i])\n",
    "        plt.title(\", \".join(label_list))\n",
    "    else:\n",
    "        plt.title(list(classes)[y])\n",
    "\n",
    "k = random.randint(0, batch_size-1)\n",
    "X1, Y1 = next(iter(test_loader))\n",
    "X1, Y1 = mixup(X1, Y1, num_classes=num_classes, min_seq=1, max_seq=3)\n",
    "plot_sequence(X1[k].detach().numpy(), Y1[k].detach().numpy())"
   ]
  },
  {
   "cell_type": "code",
   "execution_count": null,
   "id": "5f5ab47e",
   "metadata": {},
   "outputs": [],
   "source": [
    "from sklearn.metrics import hamming_loss, f1_score\n",
    "\n",
    "repeats = 5\n",
    "\n",
    "predictions = []\n",
    "targets = []\n",
    "\n",
    "for r in range(repeats):\n",
    "    # iterate over test data\n",
    "    for inputs, labels in tqdm.tqdm(test_loader):\n",
    "        inputs, labels = inputs.to(device), labels.to(device)\n",
    "        inputs, labels = mixup(inputs, labels, num_classes=num_classes, min_seq=1, max_seq=3)\n",
    "        inputs = inputs.unsqueeze(2)\n",
    "\n",
    "        for s in range(len(inputs)): # for each sequence in batch\n",
    "            cnc_outputs = call_nocall_model(inputs[s])\n",
    "            cnc_pred = torch.argmax(cnc_outputs, 1) # call indices\n",
    "\n",
    "            n_inputs = inputs[s, cnc_pred.nonzero().squeeze()]\n",
    "            if n_inputs.shape[0] > 1:\n",
    "                output = model(n_inputs)\n",
    "                predictions.append(output.mean(dim=0).data.cpu().numpy())\n",
    "            else:\n",
    "                predictions.append(torch.zeros_like(labels[s]).data.cpu().numpy())\n",
    "                \n",
    "            targets.append(labels[s].data.cpu().numpy())"
   ]
  },
  {
   "cell_type": "code",
   "execution_count": null,
   "id": "c70a8ca5",
   "metadata": {},
   "outputs": [],
   "source": [
    "from sklearn.metrics import hamming_loss, f1_score\n",
    "import einops\n",
    "from einops import repeat\n",
    "\n",
    "def sigmoid(x):\n",
    "    return 1 / (1 + np.exp(-x))\n",
    "\n",
    "labels = sigmoid(np.asarray(predictions)) > 0.5\n",
    "print(\"Mixed test acc:\", getCorrects(labels, np.asarray(targets)) / (repeats * len(test_data)))\n",
    "print(\"Mixed hamming score:\", hamming_loss(labels, np.asarray(targets)))\n",
    "print(\"Mixed f1 micro:\", f1_score(labels, np.asarray(targets), average='micro'))\n",
    "print(\"Mixed f1 macro:\", f1_score(labels, np.asarray(targets), average='macro'))\n",
    "print(\"Mixed f1 samples:\", f1_score(labels, np.asarray(targets), average='samples'))"
   ]
  }
 ],
 "metadata": {
  "kernelspec": {
   "display_name": "Python 3 (ipykernel)",
   "language": "python",
   "name": "python3"
  },
  "language_info": {
   "codemirror_mode": {
    "name": "ipython",
    "version": 3
   },
   "file_extension": ".py",
   "mimetype": "text/x-python",
   "name": "python",
   "nbconvert_exporter": "python",
   "pygments_lexer": "ipython3",
   "version": "3.8.6"
  }
 },
 "nbformat": 4,
 "nbformat_minor": 5
}
