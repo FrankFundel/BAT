{
 "cells": [
  {
   "cell_type": "code",
   "execution_count": 13,
   "id": "1d46c3d9",
   "metadata": {},
   "outputs": [],
   "source": [
    "import h5py\n",
    "from prepare_individuals import prepare, germanBats\n",
    "import pickle\n",
    "import numpy as np\n",
    "\n",
    "classes = germanBats"
   ]
  },
  {
   "cell_type": "code",
   "execution_count": 2,
   "id": "68485981",
   "metadata": {},
   "outputs": [],
   "source": [
    "prepared_hf = h5py.File('prepared.h5', 'r')\n",
    "\n",
    "patch_len = 44                               # 88 bei 44100, 44 bei 22050 = 250ms ~ 25ms"
   ]
  },
  {
   "cell_type": "code",
   "execution_count": 3,
   "id": "93161a76",
   "metadata": {},
   "outputs": [
    {
     "name": "stderr",
     "output_type": "stream",
     "text": [
      "100%|████████████████████████████████████████████████████████████████████████████████████████████████████████████████████████████████████████████████████████| 19/19 [00:15<00:00,  1.25it/s]\n",
      "100%|████████████████████████████████████████████████████████████████████████████████████████████████████████████████████████████████████████████████████████| 19/19 [00:06<00:00,  2.80it/s]\n",
      "100%|████████████████████████████████████████████████████████████████████████████████████████████████████████████████████████████████████████████████████████| 19/19 [00:03<00:00,  4.76it/s]\n"
     ]
    }
   ],
   "source": [
    "X_train, Y_train, X_test, Y_test, X_val, Y_val = prepare(\"../datasets/prepared.h5\", classes, patch_len=patch_len)"
   ]
  },
  {
   "cell_type": "code",
   "execution_count": 4,
   "id": "58420624",
   "metadata": {},
   "outputs": [
    {
     "name": "stdout",
     "output_type": "stream",
     "text": [
      "Total calls: 54280\n",
      "(31872, 44, 257) (31872,)\n"
     ]
    }
   ],
   "source": [
    "print(\"Total calls:\", len(X_train) + len(X_test) + len(X_val))\n",
    "print(X_train.shape, Y_train.shape)"
   ]
  },
  {
   "cell_type": "code",
   "execution_count": 29,
   "id": "1d3d9c73",
   "metadata": {},
   "outputs": [
    {
     "name": "stdout",
     "output_type": "stream",
     "text": [
      "72 take 72\n",
      "278 take 139\n",
      "439 take 109\n",
      "476 take 59\n",
      "566 take 35\n",
      "1102 take 34\n",
      "1204 take 18\n",
      "1227 take 9\n",
      "1300 take 5\n",
      "1353 take 2\n",
      "1368 take 1\n",
      "1381 take 0\n",
      "1415 take 0\n",
      "1669 take 0\n",
      "2396 take 0\n",
      "2587 take 0\n",
      "3053 take 0\n",
      "4213 take 0\n",
      "5773 take 0\n",
      "483\n"
     ]
    }
   ],
   "source": [
    "# inverse distribution sampling\n",
    "grouped = [[] for x in range(len(classes))]\n",
    "for x, y in zip(X_train, Y_train):\n",
    "    grouped[y].append((x, y))\n",
    "sorted_list = list(sorted(grouped, key=len)) # class with least elements first\n",
    "sampling = []\n",
    "size = 1.0\n",
    "for group in sorted_list:\n",
    "    take = int(len(group) * size)\n",
    "    print(len(group), \"take\", take)\n",
    "    samples = np.asarray(group)[range(take)]\n",
    "    sampling.extend(samples)\n",
    "    size = size / 2\n",
    "    \n",
    "print(len(sampling))"
   ]
  },
  {
   "cell_type": "code",
   "execution_count": 20,
   "id": "c51c312a",
   "metadata": {},
   "outputs": [],
   "source": [
    "from ipyannotate import annotate\n",
    "from ipyannotate.buttons import (\n",
    "    ValueButton as Button,\n",
    "    NextButton as Next,\n",
    "    BackButton as Back\n",
    ")\n",
    "\n",
    "import numpy as np\n",
    "import matplotlib.pyplot as plt\n",
    "from PIL import Image\n",
    "from IPython.display import display"
   ]
  },
  {
   "cell_type": "code",
   "execution_count": 32,
   "id": "ea4311d0",
   "metadata": {
    "scrolled": true
   },
   "outputs": [
    {
     "data": {
      "application/vnd.jupyter.widget-view+json": {
       "model_id": "a410229fbb104ba6a6a878ad50181756",
       "version_major": 2,
       "version_minor": 0
      },
      "text/plain": [
       "Annotation(canvas=OutputCanvas(), progress=Progress(atoms=[<ipyannotate.progress.Atom object at 0x7efe1e460880…"
      ]
     },
     "metadata": {},
     "output_type": "display_data"
    }
   ],
   "source": [
    "def display_item(a):\n",
    "    patch, label = a\n",
    "    plt.figure(figsize = (2.5, 5))\n",
    "    spec = np.rot90(patch)\n",
    "    plt.imshow(spec, interpolation='nearest', aspect='auto', cmap='inferno')\n",
    "    plt.title(list(classes)[label])\n",
    "    plt.colorbar()\n",
    "    plt.savefig('out.png')\n",
    "    plt.close()\n",
    "    image = Image.open('out.png')\n",
    "    display(image)\n",
    "\n",
    "buttons = [\n",
    "    Button('Call', shortcut='1'),\n",
    "    Button('No Call', shortcut='2'),\n",
    "    Back(),\n",
    "    Next()\n",
    "]    \n",
    "annotation = annotate(sampling + list(zip(X_train[:2000], Y_train[:2000])), buttons=buttons, display=display_item)\n",
    "\n",
    "# load annotations\n",
    "'''with open('call_nocall.annotation', 'rb') as file:\n",
    "    values = pickle.load(file)\n",
    "    for i, val in enumerate(values):\n",
    "        annotation.tasks[len(sampling) + i].value = \"Call\" if val == 1 else \"No Call\"\n",
    "with open('call_nocall.tasks', 'wb') as file:\n",
    "    pickle.dump(annotation.tasks, file)'''\n",
    "with open('call_nocall.tasks', 'rb') as file:\n",
    "    annotation.tasks = pickle.load(file)\n",
    "annotation"
   ]
  },
  {
   "cell_type": "code",
   "execution_count": 33,
   "id": "581e23bd",
   "metadata": {},
   "outputs": [
    {
     "name": "stdout",
     "output_type": "stream",
     "text": [
      "1431 1052 2483\n"
     ]
    }
   ],
   "source": [
    "call = 0\n",
    "no_call = 0\n",
    "for task in annotation.tasks:\n",
    "    if task.value == \"Call\":\n",
    "        call += 1\n",
    "    elif task.value == \"No Call\":\n",
    "        no_call += 1\n",
    "\n",
    "print(call, no_call, call + no_call)"
   ]
  },
  {
   "cell_type": "code",
   "execution_count": 34,
   "id": "8bc74b61",
   "metadata": {},
   "outputs": [],
   "source": [
    "with open('call_nocall.annotation', 'wb') as file:\n",
    "    values = []\n",
    "    for task in annotation.tasks:\n",
    "        values.append(1 if task.value == \"Call\" else 0)\n",
    "    pickle.dump(np.asarray(values), file)"
   ]
  },
  {
   "cell_type": "code",
   "execution_count": 35,
   "id": "ac4b9970",
   "metadata": {},
   "outputs": [
    {
     "name": "stdout",
     "output_type": "stream",
     "text": [
      "1431 1052\n"
     ]
    }
   ],
   "source": [
    "with open('call_nocall.annotation', 'rb') as file:\n",
    "    values = pickle.load(file)\n",
    "    call = values.sum()\n",
    "    no_call = values.shape[0] - call\n",
    "    print(call, no_call)"
   ]
  }
 ],
 "metadata": {
  "kernelspec": {
   "display_name": "Python 3 (ipykernel)",
   "language": "python",
   "name": "python3"
  },
  "language_info": {
   "codemirror_mode": {
    "name": "ipython",
    "version": 3
   },
   "file_extension": ".py",
   "mimetype": "text/x-python",
   "name": "python",
   "nbconvert_exporter": "python",
   "pygments_lexer": "ipython3",
   "version": "3.8.6"
  }
 },
 "nbformat": 4,
 "nbformat_minor": 5
}
