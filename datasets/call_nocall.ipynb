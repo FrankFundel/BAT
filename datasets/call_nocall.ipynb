{
 "cells": [
  {
   "cell_type": "code",
   "execution_count": 1,
   "id": "1d46c3d9",
   "metadata": {},
   "outputs": [],
   "source": [
    "import h5py\n",
    "from prepare_individuals import prepare, classes13"
   ]
  },
  {
   "cell_type": "code",
   "execution_count": 2,
   "id": "68485981",
   "metadata": {},
   "outputs": [],
   "source": [
    "prepared_hf = h5py.File('prepared.h5', 'r')"
   ]
  },
  {
   "cell_type": "code",
   "execution_count": 3,
   "id": "93161a76",
   "metadata": {},
   "outputs": [
    {
     "name": "stderr",
     "output_type": "stream",
     "text": [
      "100%|███████████████████████████████████████████| 13/13 [00:12<00:00,  1.00it/s]\n",
      "100%|███████████████████████████████████████████| 13/13 [00:05<00:00,  2.30it/s]\n",
      "100%|███████████████████████████████████████████| 13/13 [00:03<00:00,  3.71it/s]\n"
     ]
    }
   ],
   "source": [
    "X_train, Y_train, X_test, Y_test, X_val, Y_val = prepare(\"../datasets/prepared.h5\", classes13, patch_len=44, threshold=0)"
   ]
  },
  {
   "cell_type": "code",
   "execution_count": 4,
   "id": "58420624",
   "metadata": {},
   "outputs": [
    {
     "name": "stdout",
     "output_type": "stream",
     "text": [
      "Total calls: 45309\n",
      "(26577, 44, 257) (26577,)\n"
     ]
    }
   ],
   "source": [
    "print(\"Total calls:\", len(X_train) + len(X_test) + len(X_val))\n",
    "print(X_train.shape, Y_train.shape)"
   ]
  },
  {
   "cell_type": "code",
   "execution_count": 47,
   "id": "c51c312a",
   "metadata": {},
   "outputs": [],
   "source": [
    "from ipyannotate import annotate\n",
    "from ipyannotate.buttons import (\n",
    "    ValueButton as Button,\n",
    "    NextButton as Next,\n",
    "    BackButton as Back\n",
    ")\n",
    "\n",
    "import numpy as np\n",
    "import matplotlib.pyplot as plt\n",
    "from PIL import Image\n",
    "from IPython.display import display"
   ]
  },
  {
   "cell_type": "code",
   "execution_count": 51,
   "id": "b8474b08",
   "metadata": {
    "scrolled": true
   },
   "outputs": [
    {
     "data": {
      "application/vnd.jupyter.widget-view+json": {
       "model_id": "0402f8f39e914b65b68d8f6526f29a21",
       "version_major": 2,
       "version_minor": 0
      },
      "text/plain": [
       "Annotation(canvas=OutputCanvas(), progress=Progress(atoms=[<ipyannotate.progress.Atom object at 0x7fde746e8550…"
      ]
     },
     "metadata": {},
     "output_type": "display_data"
    }
   ],
   "source": [
    "def display_item(patch):\n",
    "    plt.figure(figsize = (2.5, 5))\n",
    "    spec = np.rot90(patch)\n",
    "    plt.imshow(spec, interpolation='nearest', aspect='auto', cmap='inferno')\n",
    "    plt.colorbar()\n",
    "    plt.savefig('out.png')\n",
    "    plt.close()\n",
    "    image = Image.open('out.png')\n",
    "    display(image)\n",
    "\n",
    "buttons = [\n",
    "    Button('Call', shortcut='1'),\n",
    "    Button('No Call', shortcut='2'),\n",
    "    Back(),\n",
    "    Next()\n",
    "]\n",
    "annotation = annotate(X_train[:2000], buttons=buttons, display=display_item)\n",
    "annotation"
   ]
  },
  {
   "cell_type": "code",
   "execution_count": 83,
   "id": "581e23bd",
   "metadata": {},
   "outputs": [
    {
     "name": "stdout",
     "output_type": "stream",
     "text": [
      "1110 890\n"
     ]
    }
   ],
   "source": [
    "call = 0\n",
    "no_call = 0\n",
    "for task in annotation.tasks:\n",
    "    if task.value == \"Call\":\n",
    "        call += 1\n",
    "    else:\n",
    "        no_call += 1\n",
    "\n",
    "print(call, no_call)"
   ]
  },
  {
   "cell_type": "code",
   "execution_count": 84,
   "id": "8bc74b61",
   "metadata": {},
   "outputs": [],
   "source": [
    "import pickle\n",
    "with open('call_nocall.annotation', 'wb') as file:\n",
    "    pickle.dump(annotation.tasks, file)"
   ]
  },
  {
   "cell_type": "code",
   "execution_count": 85,
   "id": "ac4b9970",
   "metadata": {},
   "outputs": [
    {
     "name": "stdout",
     "output_type": "stream",
     "text": [
      "1110 890\n"
     ]
    }
   ],
   "source": [
    "with open('call_nocall.annotation', 'rb') as file:\n",
    "    tasks = pickle.load(file)\n",
    "    call = 0\n",
    "    no_call = 0\n",
    "    for task in tasks:\n",
    "        if task.value == \"Call\":\n",
    "            call += 1\n",
    "        else:\n",
    "            no_call += 1\n",
    "\n",
    "    print(call, no_call)"
   ]
  }
 ],
 "metadata": {
  "kernelspec": {
   "display_name": "Python 3 (ipykernel)",
   "language": "python",
   "name": "python3"
  },
  "language_info": {
   "codemirror_mode": {
    "name": "ipython",
    "version": 3
   },
   "file_extension": ".py",
   "mimetype": "text/x-python",
   "name": "python",
   "nbconvert_exporter": "python",
   "pygments_lexer": "ipython3",
   "version": "3.8.6"
  }
 },
 "nbformat": 4,
 "nbformat_minor": 5
}
