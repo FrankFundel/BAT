{
 "cells": [
  {
   "cell_type": "code",
   "execution_count": 1,
   "id": "9f663f06",
   "metadata": {},
   "outputs": [
    {
     "name": "stderr",
     "output_type": "stream",
     "text": [
      "2022-11-10 11:38:50.765316: I tensorflow/core/platform/cpu_feature_guard.cc:193] This TensorFlow binary is optimized with oneAPI Deep Neural Network Library (oneDNN) to use the following CPU instructions in performance-critical operations:  AVX2 FMA\n",
      "To enable them in other operations, rebuild TensorFlow with the appropriate compiler flags.\n",
      "2022-11-10 11:38:51.220486: E tensorflow/stream_executor/cuda/cuda_blas.cc:2981] Unable to register cuBLAS factory: Attempting to register factory for plugin cuBLAS when one has already been registered\n",
      "2022-11-10 11:38:54.088332: W tensorflow/stream_executor/platform/default/dso_loader.cc:64] Could not load dynamic library 'libnvinfer.so.7'; dlerror: libnvinfer.so.7: cannot open shared object file: No such file or directory; LD_LIBRARY_PATH: /home/ffundel/.local/lib:\n",
      "2022-11-10 11:38:54.089152: W tensorflow/stream_executor/platform/default/dso_loader.cc:64] Could not load dynamic library 'libnvinfer_plugin.so.7'; dlerror: libnvinfer_plugin.so.7: cannot open shared object file: No such file or directory; LD_LIBRARY_PATH: /home/ffundel/.local/lib:\n",
      "2022-11-10 11:38:54.089183: W tensorflow/compiler/tf2tensorrt/utils/py_utils.cc:38] TF-TRT Warning: Cannot dlopen some TensorRT libraries. If you would like to use Nvidia GPU with TensorRT, please make sure the missing libraries mentioned above are installed properly.\n"
     ]
    }
   ],
   "source": [
    "import sys\n",
    "import matplotlib.pyplot as plt\n",
    "import h5py\n",
    "from tqdm import tqdm\n",
    "import librosa\n",
    "import numpy as np\n",
    "from keras.utils.np_utils import to_categorical\n",
    "from sklearn.utils import shuffle\n",
    "import cv2\n",
    "import torch\n",
    "\n",
    "classes = {\n",
    "    \"Rhinolophus ferrumequinum\": 0,\n",
    "    \"Rhinolophus hipposideros\": 1,\n",
    "    \"Myotis daubentonii\": 2,\n",
    "    \"Myotis brandtii\": 3,\n",
    "    \"Myotis mystacinus\": 4,\n",
    "    \"Myotis emarginatus\": 5,\n",
    "    \"Myotis nattereri\": 6,\n",
    "    #\"Myotis bechsteinii\": 7,\n",
    "    \"Myotis myotis\": 7,\n",
    "    \"Myotis dasycneme\": 8,\n",
    "    \"Nyctalus noctula\": 9,\n",
    "    \"Nyctalus leisleri\": 10,\n",
    "    \"Pipistrellus pipistrellus\": 11,\n",
    "    \"Pipistrellus nathusii\": 12,\n",
    "    \"Pipistrellus kuhlii\": 13,\n",
    "    \"Eptesicus serotinus\": 14,\n",
    "    \"Eptesicus nilssonii\": 15,\n",
    "    #\"Plecotus auritus\": 16,\n",
    "    #\"Plecotus austriacus\": 16,\n",
    "    #\"Barbastella barbastellus\": 16,\n",
    "    #\"Tadarida teniotis\": 16,\n",
    "    \"Miniopterus schreibersii\": 16,\n",
    "    #\"Hypsugo savii\": 18,\n",
    "    \"Vespertilio murinus\": 17,\n",
    "}"
   ]
  },
  {
   "cell_type": "code",
   "execution_count": 2,
   "id": "10fa569f",
   "metadata": {},
   "outputs": [],
   "source": [
    "skiba_path = \"prepared_signal.h5\"\n",
    "skiba_hf = h5py.File(skiba_path, 'a')\n",
    "skiba_train = skiba_hf.require_group(\"train\")\n",
    "skiba_test = skiba_hf.require_group(\"test\")\n",
    "skiba_val = skiba_hf.require_group(\"val\")"
   ]
  },
  {
   "cell_type": "code",
   "execution_count": 3,
   "id": "284e99a0",
   "metadata": {},
   "outputs": [],
   "source": [
    "chirovox_path = \"prepared_signal_chirovox.h5\"\n",
    "chirovox_hf = h5py.File(chirovox_path, 'r')\n",
    "chirovox_test = chirovox_hf.require_group(\"test\")"
   ]
  },
  {
   "cell_type": "code",
   "execution_count": 9,
   "id": "b4b5c03d",
   "metadata": {},
   "outputs": [],
   "source": [
    "def mergeDS(ds1, ds2, group):\n",
    "    for species in tqdm(list(classes)):\n",
    "        s1 = ds1.get(species)\n",
    "        s2 = ds2.get(species)\n",
    "        group.create_dataset(species, data=np.concatenate([s1, s2]))\n",
    "        \n",
    "def copyDS(ds, group):\n",
    "    for species in tqdm(list(classes)):\n",
    "        s = ds.get(species)\n",
    "        if s:\n",
    "            group.create_dataset(species, data=s)\n",
    "        else:\n",
    "            group.create_dataset(species, data=[])"
   ]
  },
  {
   "cell_type": "code",
   "execution_count": 10,
   "id": "cc1eb3d8",
   "metadata": {},
   "outputs": [],
   "source": [
    "hf = h5py.File(\"skiba_chirovox2\", 'w')\n",
    "train_set = hf.require_group(\"train\")\n",
    "test_set = hf.require_group(\"test\")\n",
    "val_set = hf.require_group(\"val\")"
   ]
  },
  {
   "cell_type": "code",
   "execution_count": 12,
   "id": "00db69c2",
   "metadata": {},
   "outputs": [
    {
     "name": "stderr",
     "output_type": "stream",
     "text": [
      "100%|███████████████████████████████████████████| 18/18 [00:07<00:00,  2.30it/s]\n",
      " 17%|███████▎                                    | 3/18 [00:00<00:02,  6.41it/s]"
     ]
    },
    {
     "name": "stdout",
     "output_type": "stream",
     "text": [
      "Eptesicus nilssonii\n"
     ]
    },
    {
     "name": "stderr",
     "output_type": "stream",
     "text": [
      "100%|███████████████████████████████████████████| 18/18 [00:04<00:00,  4.44it/s]\n"
     ]
    }
   ],
   "source": [
    "#mergeDS(skiba_train, skiba_test, train_set)\n",
    "copyDS(chirovox_test, test_set)\n",
    "copyDS(skiba_val, val_set)"
   ]
  },
  {
   "cell_type": "code",
   "execution_count": 7,
   "id": "e0f7784b",
   "metadata": {},
   "outputs": [],
   "source": [
    "hf.close()"
   ]
  }
 ],
 "metadata": {
  "kernelspec": {
   "display_name": "Python 3 (ipykernel)",
   "language": "python",
   "name": "python3"
  },
  "language_info": {
   "codemirror_mode": {
    "name": "ipython",
    "version": 3
   },
   "file_extension": ".py",
   "mimetype": "text/x-python",
   "name": "python",
   "nbconvert_exporter": "python",
   "pygments_lexer": "ipython3",
   "version": "3.8.6"
  }
 },
 "nbformat": 4,
 "nbformat_minor": 5
}
